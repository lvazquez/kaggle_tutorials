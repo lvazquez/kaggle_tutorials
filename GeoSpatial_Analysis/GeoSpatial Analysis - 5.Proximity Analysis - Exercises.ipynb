{
 "cells": [
  {
   "cell_type": "markdown",
   "metadata": {},
   "source": [
    "# Introduction \n",
    "\n",
    "Supongamos que ud. es parte de un equipo de respuesta a crisis, el cual que quiere identificar como han estado respondiendo los hospitales a las colisione de tránsito en la ciudad de New York.\n",
    "\n",
    "<center>\n",
    "<img src=\"new_york_crash.jpg\" width=\"450\"><br/>\n",
    "</center>\n",
    "\n",
    "Antes de comenzar debemos ejecutar el siguiente bloque para inicializar todos los módulos necesarios."
   ]
  },
  {
   "cell_type": "code",
   "execution_count": 98,
   "metadata": {},
   "outputs": [],
   "source": [
    "import math\n",
    "import geopandas as gpd\n",
    "import pandas as pd\n",
    "from shapely.geometry import MultiPolygon\n",
    "\n",
    "import folium\n",
    "from folium import Choropleth, Marker, GeoJson\n",
    "from folium.plugins import HeatMap, MarkerCluster"
   ]
  },
  {
   "cell_type": "markdown",
   "metadata": {},
   "source": [
    "También vamos a usar la función `embed_map()` para asegurar la correcta visualización de los mapas."
   ]
  },
  {
   "cell_type": "code",
   "execution_count": 99,
   "metadata": {},
   "outputs": [],
   "source": [
    "def embed_map(m, file_name):\n",
    "    from IPython.display import IFrame\n",
    "    m.save(file_name)\n",
    "    return IFrame(file_name, width='100%', height='500px')"
   ]
  },
  {
   "cell_type": "markdown",
   "metadata": {},
   "source": [
    "# Ejercicios\n",
    "\n",
    "## 1) Visualice los datos de colisiones\n",
    "\n",
    "Corra el código en la celda de abajo para cargar el **GeoDataFrame** `collisions` con información de los choques importante de vehiculos motorizados entre 2013-2018."
   ]
  },
  {
   "cell_type": "code",
   "execution_count": 100,
   "metadata": {
    "scrolled": true
   },
   "outputs": [
    {
     "data": {
      "text/html": [
       "<div>\n",
       "<style scoped>\n",
       "    .dataframe tbody tr th:only-of-type {\n",
       "        vertical-align: middle;\n",
       "    }\n",
       "\n",
       "    .dataframe tbody tr th {\n",
       "        vertical-align: top;\n",
       "    }\n",
       "\n",
       "    .dataframe thead th {\n",
       "        text-align: right;\n",
       "    }\n",
       "</style>\n",
       "<table border=\"1\" class=\"dataframe\">\n",
       "  <thead>\n",
       "    <tr style=\"text-align: right;\">\n",
       "      <th></th>\n",
       "      <th>DATE</th>\n",
       "      <th>TIME</th>\n",
       "      <th>BOROUGH</th>\n",
       "      <th>ZIP CODE</th>\n",
       "      <th>LATITUDE</th>\n",
       "      <th>LONGITUDE</th>\n",
       "      <th>LOCATION</th>\n",
       "      <th>ON STREET</th>\n",
       "      <th>CROSS STRE</th>\n",
       "      <th>OFF STREET</th>\n",
       "      <th>...</th>\n",
       "      <th>CONTRIBU_2</th>\n",
       "      <th>CONTRIBU_3</th>\n",
       "      <th>CONTRIBU_4</th>\n",
       "      <th>UNIQUE KEY</th>\n",
       "      <th>VEHICLE TY</th>\n",
       "      <th>VEHICLE _1</th>\n",
       "      <th>VEHICLE _2</th>\n",
       "      <th>VEHICLE _3</th>\n",
       "      <th>VEHICLE _4</th>\n",
       "      <th>geometry</th>\n",
       "    </tr>\n",
       "  </thead>\n",
       "  <tbody>\n",
       "    <tr>\n",
       "      <th>0</th>\n",
       "      <td>07/30/2019</td>\n",
       "      <td>0:00</td>\n",
       "      <td>BRONX</td>\n",
       "      <td>10464</td>\n",
       "      <td>40.841100</td>\n",
       "      <td>-73.784960</td>\n",
       "      <td>(40.8411, -73.78496)</td>\n",
       "      <td>None</td>\n",
       "      <td>None</td>\n",
       "      <td>121       PILOT STREET</td>\n",
       "      <td>...</td>\n",
       "      <td>Unspecified</td>\n",
       "      <td>None</td>\n",
       "      <td>None</td>\n",
       "      <td>4180045</td>\n",
       "      <td>Sedan</td>\n",
       "      <td>Station Wagon/Sport Utility Vehicle</td>\n",
       "      <td>Station Wagon/Sport Utility Vehicle</td>\n",
       "      <td>None</td>\n",
       "      <td>None</td>\n",
       "      <td>POINT (1043750.211 245785.815)</td>\n",
       "    </tr>\n",
       "    <tr>\n",
       "      <th>1</th>\n",
       "      <td>07/30/2019</td>\n",
       "      <td>0:10</td>\n",
       "      <td>QUEENS</td>\n",
       "      <td>11423</td>\n",
       "      <td>40.710827</td>\n",
       "      <td>-73.770660</td>\n",
       "      <td>(40.710827, -73.77066)</td>\n",
       "      <td>JAMAICA AVENUE</td>\n",
       "      <td>188 STREET</td>\n",
       "      <td>None</td>\n",
       "      <td>...</td>\n",
       "      <td>None</td>\n",
       "      <td>None</td>\n",
       "      <td>None</td>\n",
       "      <td>4180007</td>\n",
       "      <td>Sedan</td>\n",
       "      <td>Sedan</td>\n",
       "      <td>None</td>\n",
       "      <td>None</td>\n",
       "      <td>None</td>\n",
       "      <td>POINT (1047831.185 198333.171)</td>\n",
       "    </tr>\n",
       "    <tr>\n",
       "      <th>2</th>\n",
       "      <td>07/30/2019</td>\n",
       "      <td>0:25</td>\n",
       "      <td>None</td>\n",
       "      <td>None</td>\n",
       "      <td>40.880318</td>\n",
       "      <td>-73.841286</td>\n",
       "      <td>(40.880318, -73.841286)</td>\n",
       "      <td>BOSTON ROAD</td>\n",
       "      <td>None</td>\n",
       "      <td>None</td>\n",
       "      <td>...</td>\n",
       "      <td>None</td>\n",
       "      <td>None</td>\n",
       "      <td>None</td>\n",
       "      <td>4179575</td>\n",
       "      <td>Sedan</td>\n",
       "      <td>Station Wagon/Sport Utility Vehicle</td>\n",
       "      <td>None</td>\n",
       "      <td>None</td>\n",
       "      <td>None</td>\n",
       "      <td>POINT (1028139.293 260041.178)</td>\n",
       "    </tr>\n",
       "  </tbody>\n",
       "</table>\n",
       "<p>3 rows × 30 columns</p>\n",
       "</div>"
      ],
      "text/plain": [
       "         DATE  TIME BOROUGH ZIP CODE   LATITUDE  LONGITUDE  \\\n",
       "0  07/30/2019  0:00   BRONX    10464  40.841100 -73.784960   \n",
       "1  07/30/2019  0:10  QUEENS    11423  40.710827 -73.770660   \n",
       "2  07/30/2019  0:25    None     None  40.880318 -73.841286   \n",
       "\n",
       "                  LOCATION       ON STREET  CROSS STRE  \\\n",
       "0     (40.8411, -73.78496)            None        None   \n",
       "1   (40.710827, -73.77066)  JAMAICA AVENUE  188 STREET   \n",
       "2  (40.880318, -73.841286)     BOSTON ROAD        None   \n",
       "\n",
       "               OFF STREET  ...   CONTRIBU_2  CONTRIBU_3  CONTRIBU_4  \\\n",
       "0  121       PILOT STREET  ...  Unspecified        None        None   \n",
       "1                    None  ...         None        None        None   \n",
       "2                    None  ...         None        None        None   \n",
       "\n",
       "   UNIQUE KEY  VEHICLE TY                           VEHICLE _1  \\\n",
       "0     4180045       Sedan  Station Wagon/Sport Utility Vehicle   \n",
       "1     4180007       Sedan                                Sedan   \n",
       "2     4179575       Sedan  Station Wagon/Sport Utility Vehicle   \n",
       "\n",
       "                            VEHICLE _2  VEHICLE _3 VEHICLE _4  \\\n",
       "0  Station Wagon/Sport Utility Vehicle        None       None   \n",
       "1                                 None        None       None   \n",
       "2                                 None        None       None   \n",
       "\n",
       "                         geometry  \n",
       "0  POINT (1043750.211 245785.815)  \n",
       "1  POINT (1047831.185 198333.171)  \n",
       "2  POINT (1028139.293 260041.178)  \n",
       "\n",
       "[3 rows x 30 columns]"
      ]
     },
     "execution_count": 100,
     "metadata": {},
     "output_type": "execute_result"
    }
   ],
   "source": [
    "collisions = gpd.read_file(\"../input/NYPD_Motor_Vehicle_Collisions/NYPD_Motor_Vehicle_Collisions.shp\")\n",
    "collisions.head(3)"
   ]
  },
  {
   "cell_type": "markdown",
   "metadata": {},
   "source": [
    "Use las columnas **LATITUDE** y **LONGITUDE** para crear un mapa interactiva que visualice la distribución de los choques. Que tipo de mapa parece el más efectivo para mostrar esta información?"
   ]
  },
  {
   "cell_type": "code",
   "execution_count": 101,
   "metadata": {},
   "outputs": [
    {
     "name": "stdout",
     "output_type": "stream",
     "text": [
      "40.692923335848114 -73.8689606520383\n"
     ]
    }
   ],
   "source": [
    "# calculamos el promedio de latitud y longitud\n",
    "collitions_coord = collisions[['LATITUDE', 'LONGITUDE']]\n",
    "mean_lat, mean_long = collitions_coord.mean()\n",
    "print(mean_lat,mean_long)"
   ]
  },
  {
   "cell_type": "code",
   "execution_count": 102,
   "metadata": {
    "scrolled": false
   },
   "outputs": [
    {
     "data": {
      "text/html": [
       "\n",
       "        <iframe\n",
       "            width=\"100%\"\n",
       "            height=\"500px\"\n",
       "            src=\"map1.html\"\n",
       "            frameborder=\"0\"\n",
       "            allowfullscreen\n",
       "        ></iframe>\n",
       "        "
      ],
      "text/plain": [
       "<IPython.lib.display.IFrame at 0x7f9e4a6bb290>"
      ]
     },
     "execution_count": 102,
     "metadata": {},
     "output_type": "execute_result"
    }
   ],
   "source": [
    "# creamos el mapa de New York\n",
    "map1 = folium.Map(location=[40.7, -74], zoom_start=11)\n",
    "# creamos mapa de calor con la distribución de los accidentes\n",
    "HeatMap(data=collitions_coord, radius=10).add_to(map1);\n",
    "\n",
    "embed_map(map1, \"map1.html\")"
   ]
  },
  {
   "cell_type": "markdown",
   "metadata": {},
   "source": [
    "### 2) Entendiendo la cobertura hospitalaria\n",
    "\n",
    "Ejecute la celda siguiente para cargar la información de los hospitales en New York."
   ]
  },
  {
   "cell_type": "code",
   "execution_count": 103,
   "metadata": {},
   "outputs": [
    {
     "data": {
      "text/html": [
       "<div>\n",
       "<style scoped>\n",
       "    .dataframe tbody tr th:only-of-type {\n",
       "        vertical-align: middle;\n",
       "    }\n",
       "\n",
       "    .dataframe tbody tr th {\n",
       "        vertical-align: top;\n",
       "    }\n",
       "\n",
       "    .dataframe thead th {\n",
       "        text-align: right;\n",
       "    }\n",
       "</style>\n",
       "<table border=\"1\" class=\"dataframe\">\n",
       "  <thead>\n",
       "    <tr style=\"text-align: right;\">\n",
       "      <th></th>\n",
       "      <th>id</th>\n",
       "      <th>name</th>\n",
       "      <th>address</th>\n",
       "      <th>zip</th>\n",
       "      <th>factype</th>\n",
       "      <th>facname</th>\n",
       "      <th>capacity</th>\n",
       "      <th>capname</th>\n",
       "      <th>bcode</th>\n",
       "      <th>xcoord</th>\n",
       "      <th>ycoord</th>\n",
       "      <th>latitude</th>\n",
       "      <th>longitude</th>\n",
       "      <th>geometry</th>\n",
       "    </tr>\n",
       "  </thead>\n",
       "  <tbody>\n",
       "    <tr>\n",
       "      <th>0</th>\n",
       "      <td>317000001H1178</td>\n",
       "      <td>BRONX-LEBANON HOSPITAL CENTER - CONCOURSE DIVI...</td>\n",
       "      <td>1650 Grand Concourse</td>\n",
       "      <td>10457</td>\n",
       "      <td>3102</td>\n",
       "      <td>Hospital</td>\n",
       "      <td>415</td>\n",
       "      <td>Beds</td>\n",
       "      <td>36005</td>\n",
       "      <td>1008872.0</td>\n",
       "      <td>246596.0</td>\n",
       "      <td>40.843490</td>\n",
       "      <td>-73.911010</td>\n",
       "      <td>POINT (1008872.000 246596.000)</td>\n",
       "    </tr>\n",
       "    <tr>\n",
       "      <th>1</th>\n",
       "      <td>317000001H1164</td>\n",
       "      <td>BRONX-LEBANON HOSPITAL CENTER - FULTON DIVISION</td>\n",
       "      <td>1276 Fulton Ave</td>\n",
       "      <td>10456</td>\n",
       "      <td>3102</td>\n",
       "      <td>Hospital</td>\n",
       "      <td>164</td>\n",
       "      <td>Beds</td>\n",
       "      <td>36005</td>\n",
       "      <td>1011044.0</td>\n",
       "      <td>242204.0</td>\n",
       "      <td>40.831429</td>\n",
       "      <td>-73.903178</td>\n",
       "      <td>POINT (1011044.000 242204.000)</td>\n",
       "    </tr>\n",
       "    <tr>\n",
       "      <th>2</th>\n",
       "      <td>317000011H1175</td>\n",
       "      <td>CALVARY HOSPITAL INC</td>\n",
       "      <td>1740-70 Eastchester Rd</td>\n",
       "      <td>10461</td>\n",
       "      <td>3102</td>\n",
       "      <td>Hospital</td>\n",
       "      <td>225</td>\n",
       "      <td>Beds</td>\n",
       "      <td>36005</td>\n",
       "      <td>1027505.0</td>\n",
       "      <td>248287.0</td>\n",
       "      <td>40.848060</td>\n",
       "      <td>-73.843656</td>\n",
       "      <td>POINT (1027505.000 248287.000)</td>\n",
       "    </tr>\n",
       "  </tbody>\n",
       "</table>\n",
       "</div>"
      ],
      "text/plain": [
       "               id                                               name  \\\n",
       "0  317000001H1178  BRONX-LEBANON HOSPITAL CENTER - CONCOURSE DIVI...   \n",
       "1  317000001H1164    BRONX-LEBANON HOSPITAL CENTER - FULTON DIVISION   \n",
       "2  317000011H1175                               CALVARY HOSPITAL INC   \n",
       "\n",
       "                  address    zip factype   facname capacity capname  bcode  \\\n",
       "0    1650 Grand Concourse  10457    3102  Hospital      415    Beds  36005   \n",
       "1         1276 Fulton Ave  10456    3102  Hospital      164    Beds  36005   \n",
       "2  1740-70 Eastchester Rd  10461    3102  Hospital      225    Beds  36005   \n",
       "\n",
       "      xcoord    ycoord   latitude  longitude                        geometry  \n",
       "0  1008872.0  246596.0  40.843490 -73.911010  POINT (1008872.000 246596.000)  \n",
       "1  1011044.0  242204.0  40.831429 -73.903178  POINT (1011044.000 242204.000)  \n",
       "2  1027505.0  248287.0  40.848060 -73.843656  POINT (1027505.000 248287.000)  "
      ]
     },
     "execution_count": 103,
     "metadata": {},
     "output_type": "execute_result"
    }
   ],
   "source": [
    "hospitals = gpd.read_file(\"../input/nyu_2451_34494/nyu_2451_34494.shp\")\n",
    "hospitals.head(3)"
   ]
  },
  {
   "cell_type": "markdown",
   "metadata": {},
   "source": [
    "Use las columnas **latitude** y **longitude** de este **DataFrame** para visualizar la ubicación de los hospitales."
   ]
  },
  {
   "cell_type": "code",
   "execution_count": 120,
   "metadata": {},
   "outputs": [
    {
     "data": {
      "text/html": [
       "\n",
       "        <iframe\n",
       "            width=\"100%\"\n",
       "            height=\"500px\"\n",
       "            src=\"map2.html\"\n",
       "            frameborder=\"0\"\n",
       "            allowfullscreen\n",
       "        ></iframe>\n",
       "        "
      ],
      "text/plain": [
       "<IPython.lib.display.IFrame at 0x7f9e4a5ebed0>"
      ]
     },
     "execution_count": 120,
     "metadata": {},
     "output_type": "execute_result"
    }
   ],
   "source": [
    "# creamos el mapa de New York\n",
    "map2 = folium.Map(location=[40.7, -74], zoom_start=11)\n",
    "# agrego marcadores con ubicación de los hospitales\n",
    "for idx, row in hospitals.iterrows():\n",
    "    Marker([row.latitude, row.longitude]).add_to(map2)\n",
    "\n",
    "embed_map(map2, \"map2.html\")"
   ]
  },
  {
   "cell_type": "markdown",
   "metadata": {},
   "source": [
    "### 3) Cuando estaba el hospital más cercano a más de 10kms?\n",
    "\n",
    "Crear un **DataFrame** `outside_range` con todos los registros en `collisions` de accidentes que ocurrieron a más de 10kms del hospital más cercano.\n",
    "\n",
    "Comprobar que tanto `hospitals` como `collisions` tiene **EPSG 2263** como **CRS** y verificar que este sistema de coordenadas usa metros como unidad de medida (https://epsg.io/2263)."
   ]
  },
  {
   "cell_type": "code",
   "execution_count": 130,
   "metadata": {
    "scrolled": true
   },
   "outputs": [
    {
     "name": "stdout",
     "output_type": "stream",
     "text": [
      "CRS de hospitals: epsg:2263\n",
      "CRS de collisions: epsg:2263\n"
     ]
    },
    {
     "data": {
      "text/plain": [
       "0    POLYGON ((1018872.000 246596.000, 1018823.847 ...\n",
       "1    POLYGON ((1021044.000 242204.000, 1020995.847 ...\n",
       "2    POLYGON ((1037505.000 248287.000, 1037456.847 ...\n",
       "dtype: geometry"
      ]
     },
     "execution_count": 130,
     "metadata": {},
     "output_type": "execute_result"
    }
   ],
   "source": [
    "print(\"CRS de hospitals: {}\".format(hospitals.crs))\n",
    "print(\"CRS de collisions: {}\".format(collisions.crs))\n",
    "# creamos un buffer con el area a 10kms de cada hospital;\n",
    "coverage = hospitals.geometry.buffer(10000)\n",
    "coverage.head(3)"
   ]
  },
  {
   "cell_type": "code",
   "execution_count": 108,
   "metadata": {},
   "outputs": [
    {
     "name": "stdout",
     "output_type": "stream",
     "text": [
      "--- 3.62396240234375e-05 seconds ---\n"
     ]
    }
   ],
   "source": [
    "# comparando distancias con lista de hospitales (INEFICIENTE)\n",
    "def not_safe(p, h):\n",
    "    min_dist = h.geometry.distance(p).min()\n",
    "    return min_dist > 10000\n",
    "\n",
    "import time\n",
    "start_time = time.time()\n",
    "# creamos filtro de los registros que no estan en safe_zone\n",
    "# outside1 = collisions.geometry.apply(lambda p: not_safe(p, hospitals.geometry))\n",
    "print(\"--- %s seconds ---\" % (time.time() - start_time))"
   ]
  },
  {
   "cell_type": "code",
   "execution_count": 131,
   "metadata": {},
   "outputs": [
    {
     "name": "stdout",
     "output_type": "stream",
     "text": [
      "--- 13.488712787628174 seconds ---\n",
      "Hubo 39595 accidentes lejos de los hospitales\n"
     ]
    }
   ],
   "source": [
    "## Con shapely.MultiPolygon & unary_union\n",
    "import time\n",
    "start_time = time.time()\n",
    "# cramos un MultiPolygon con la union de las zonas de los hospitales\n",
    "safe_zone = coverage.unary_union\n",
    "# creamos filtro de los registros que no estan en safe_zone\n",
    "outside_filter = collisions.geometry.apply(lambda p: not p.within(safe_zone))\n",
    "print(\"--- %s seconds ---\" % (time.time() - start_time))\n",
    "outside_range = collisions.loc[pd.Series(outside_filter)]\n",
    "print(\"Hubo {:d} accidentes lejos de los hospitales\".format(len(outside_range)))"
   ]
  },
  {
   "cell_type": "markdown",
   "metadata": {},
   "source": [
    "The next code cell calculates the percentage of collisions that occurred more than 10 kilometers away from the closest hospital."
   ]
  },
  {
   "cell_type": "code",
   "execution_count": 148,
   "metadata": {},
   "outputs": [
    {
     "name": "stdout",
     "output_type": "stream",
     "text": [
      "Porcentaje de accidentes a más de 10ks de un hospital: 15.12%\n"
     ]
    }
   ],
   "source": [
    "percentage = round(100*len(outside_range)/len(collisions), 2)\n",
    "print(\"Porcentaje de accidentes a más de 10ks de un hospital: {}%\".format(percentage))"
   ]
  },
  {
   "cell_type": "markdown",
   "metadata": {},
   "source": [
    "### 4) Creando un recomendador\n",
    "\n",
    "Cuando un accidente ocurre lejos de un centro de asistencia se vuelve vital que las personas heridas sean transladadas al hospital más cercano.\n",
    "\n",
    "Con este objetivo en mente, se decide crear un recomendador que:\n",
    "- acepte la ubicacion del accidente en coordenadas **EPSG 2263** como entrada,\n",
    "- encuentre el hospital más cercano (calculando distancias en **EPSG 2263**) y \n",
    "- devuelva el nombre del hospital más cercano."
   ]
  },
  {
   "cell_type": "code",
   "execution_count": 133,
   "metadata": {},
   "outputs": [
    {
     "name": "stdout",
     "output_type": "stream",
     "text": [
      "CALVARY HOSPITAL INC\n"
     ]
    }
   ],
   "source": [
    "def best_hospital(p):\n",
    "    # Your code here\n",
    "    closest = hospitals.iloc[hospitals.geometry.distance(p).idxmin()]\n",
    "    return closest['name']\n",
    "\n",
    "# Test your function: this should suggest CALVARY HOSPITAL INC\n",
    "print(best_hospital(outside_range.geometry.iloc[0]))"
   ]
  },
  {
   "cell_type": "markdown",
   "metadata": {},
   "source": [
    "### 5) Cual es el hospital que tiene la mayor demanda?\n",
    "\n",
    "Considerando solo las colisiones a más de 10kms en el DataFrame `outside_range`, cual es el hospital más recomendado según el criterio de ser el más cercano?\n",
    "\n",
    "La respuesta debe ser un string de Python que coincida exactamente con el nombre del hospital tal cual es devuelto por la función creada en el punto **4)**."
   ]
  },
  {
   "cell_type": "code",
   "execution_count": 149,
   "metadata": {},
   "outputs": [
    {
     "name": "stdout",
     "output_type": "stream",
     "text": [
      "El hospital con la mayor demanda es: JAMAICA HOSPITAL MEDICAL CENTER\n"
     ]
    }
   ],
   "source": [
    "demands = outside_range.geometry.apply(lambda p: best_hospital(p))\n",
    "highest_demand = demands.value_counts().idxmax()\n",
    "print(\"El hospital con la mayor demanda es: {}\".format(highest_demand))"
   ]
  },
  {
   "cell_type": "markdown",
   "metadata": {},
   "source": [
    "### 6) Donde se debería contruir nuevos hospitales?\n",
    "\n",
    "Ejecute el bloque siguiente (sin cambios) para visualizar zona de cobertura de los hospitales junto con la distribución de los accidentes que ocurren a mas de 10 kms del hospital más cercano."
   ]
  },
  {
   "cell_type": "code",
   "execution_count": 135,
   "metadata": {},
   "outputs": [
    {
     "data": {
      "text/html": [
       "\n",
       "        <iframe\n",
       "            width=\"100%\"\n",
       "            height=\"500px\"\n",
       "            src=\"map3.html\"\n",
       "            frameborder=\"0\"\n",
       "            allowfullscreen\n",
       "        ></iframe>\n",
       "        "
      ],
      "text/plain": [
       "<IPython.lib.display.IFrame at 0x7f9e4a59e3d0>"
      ]
     },
     "execution_count": 135,
     "metadata": {},
     "output_type": "execute_result"
    }
   ],
   "source": [
    "# visualizamos el area de cobertura junto a los accidentes\n",
    "map3 = folium.Map(location=[40.7, -74], zoom_start=11)\n",
    "\n",
    "# graficamos el area de 10km en el mapa (pasar a EPSG:4326)\n",
    "GeoJson(coverage.to_crs(epsg=4326)).add_to(map3)\n",
    "\n",
    "# creamos mapa de calor con los accidentes fuera de covertura\n",
    "HeatMap(data=outside_range[['LATITUDE', 'LONGITUDE']], radius=10).add_to(map3);\n",
    "folium.LatLngPopup().add_to(map3)\n",
    "\n",
    "embed_map(map3, \"map3.html\")\n"
   ]
  },
  {
   "cell_type": "markdown",
   "metadata": {},
   "source": [
    "La función `folium.LatLngPopup()` permite que al hacer *click* en cualquier punto del mapa se muestre un *pop-up* \n",
    "con la ubicación en latitud y longitud.\n",
    "\n",
    "Supongamos que la ciudad de Nueva York lo contrata a ud. como consultor para definir la ubicacion de 2 nuevos hospitales El objetivo que se plantean es identificar 2 ubicaciones que bajen el porcentaje de accidentes fuera del area \"segura\", calculado en el paso **(3)**, a menos del 10%.\n",
    "\n",
    "Usando el mapa anterior, y sin tener en cuenta posibles leyes de construcción o edificios a ser eliminados para construir los hospitales, debe indicar dos ubicaciones que permitan a la ciudad lograr este objetivo. Para esto complete los valores de latitud y longitud en las variables indicadas abajo para el hospital 1 y 2 respectivamente.\n",
    "\n",
    "Luego ejecute el código de la celta (sin más cambios) para ver el efecto de los nuevos hospitales sobre la cobertura de accidentes.\n",
    "\n",
    "La respuesta va a ser considerada correcta si los 2 hospitales permiten bajar el porcentaje a menos de 10%."
   ]
  },
  {
   "cell_type": "code",
   "execution_count": 150,
   "metadata": {},
   "outputs": [
    {
     "name": "stdout",
     "output_type": "stream",
     "text": [
      "(EXITO) El porcentaje de accidentes a mas de 10kms de un hospital es: 8.58%\n"
     ]
    },
    {
     "data": {
      "text/html": [
       "\n",
       "        <iframe\n",
       "            width=\"100%\"\n",
       "            height=\"500px\"\n",
       "            src=\"q_6.html\"\n",
       "            frameborder=\"0\"\n",
       "            allowfullscreen\n",
       "        ></iframe>\n",
       "        "
      ],
      "text/plain": [
       "<IPython.lib.display.IFrame at 0x7f9e4a52b550>"
      ]
     },
     "execution_count": 150,
     "metadata": {},
     "output_type": "execute_result"
    }
   ],
   "source": [
    "# Your answer here: proposed location of hospital 1\n",
    "lat_1, long_1 = 40.678, -73.86\n",
    "\n",
    "# Your answer here: proposed location of hospital 2\n",
    "lat_2, long_2 = 40.68, -73.76\n",
    "\n",
    "style = {'fillColor': '#3388ff', 'color': '#3388ff', \"weight\": 2, \"opacity\": 0.4}\n",
    "new_style = {'fillColor': '#ff4455', 'color': '#ff4455', \"weight\": 2, \"opacity\": 0.6}\n",
    "\n",
    "# make the map\n",
    "m = folium.Map(location=[40.7, -74], zoom_start=11)\n",
    "\n",
    "# Do not modify the code below this line\n",
    "try:\n",
    "    new_df = pd.DataFrame(\n",
    "        {'Latitude': [lat_1, lat_2],\n",
    "         'Longitude': [long_1, long_2]})\n",
    "    new_gdf = gpd.GeoDataFrame(new_df, geometry=gpd.points_from_xy(new_df.Longitude, new_df.Latitude))\n",
    "    new_gdf.crs = \"epsg:4326\"\n",
    "    new_gdf = new_gdf.to_crs(epsg=2263)\n",
    "    # get new percentage\n",
    "    new_coverage = new_gdf.geometry.buffer(10000)\n",
    "    new_my_union = new_coverage.geometry.unary_union\n",
    "    new_outside_range = outside_range.loc[~outside_range[\"geometry\"].apply(lambda x: new_my_union.contains(x))]\n",
    "    new_percentage = round(100*len(new_outside_range)/len(collisions), 2)\n",
    "    print(\"(EXITO) El porcentaje de accidentes a mas de 10kms de un hospital es: {}%\".format(new_percentage))\n",
    "    folium.GeoJson(coverage.to_crs(epsg=4326),\n",
    "                   style_function=lambda x: style).add_to(m)\n",
    "    folium.GeoJson(new_coverage.to_crs(epsg=4326),\n",
    "                   style_function=lambda x: new_style).add_to(m)\n",
    "    for idx, row in new_gdf.iterrows():\n",
    "        Marker([row['Latitude'], row['Longitude']]).add_to(m)\n",
    "    HeatMap(data=new_outside_range[['LATITUDE', 'LONGITUDE']], radius=10).add_to(m)\n",
    "    folium.LatLngPopup().add_to(m)\n",
    "except:\n",
    "    print(\"Hint: Fill in locations corresponding to two relatively warmer areas of the heatmap.\")\n",
    "    \n",
    "embed_map(m, 'q_6.html')"
   ]
  },
  {
   "cell_type": "code",
   "execution_count": null,
   "metadata": {},
   "outputs": [],
   "source": []
  }
 ],
 "metadata": {
  "kernelspec": {
   "display_name": "Python 3",
   "language": "python",
   "name": "python3"
  },
  "language_info": {
   "codemirror_mode": {
    "name": "ipython",
    "version": 3
   },
   "file_extension": ".py",
   "mimetype": "text/x-python",
   "name": "python",
   "nbconvert_exporter": "python",
   "pygments_lexer": "ipython3",
   "version": "3.7.8"
  }
 },
 "nbformat": 4,
 "nbformat_minor": 4
}
