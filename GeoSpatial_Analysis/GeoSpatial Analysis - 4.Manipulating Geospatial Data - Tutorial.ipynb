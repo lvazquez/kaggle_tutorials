{
 "cells": [
  {
   "cell_type": "markdown",
   "metadata": {},
   "source": [
    "# Manipulating Geospatial Data\n",
    "\n",
    "## Introduction\n",
    "\n",
    "In this tutorial, you'll learn about two common manipulations for geospatial data: geocoding and table joins.\n",
    "\n",
    "## Geocoding\n",
    "\n",
    "Geocoding is the process of converting the name of a place or an address to a location on a map. If you have ever looked up a geographic location based on a landmark description with Google Maps, Bing Maps, or Baidu Maps, for instance, then you have used a geocoder!\n",
    "\n",
    "<center>\n",
    "<img src=\"great_pyramid.jpg\" width=\"1000\" align=\"center\"><br/>\n",
    "</center>\n",
    "\n",
    "We'll use **GeoPandas** to do all of our geocoding.\n"
   ]
  },
  {
   "cell_type": "code",
   "execution_count": 12,
   "metadata": {},
   "outputs": [],
   "source": [
    "import numpy as np\n",
    "import pandas as pd\n",
    "import geopandas as gpd\n",
    "from geopandas.tools import geocode\n",
    "\n",
    "import warnings\n",
    "warnings.simplefilter(action='ignore', category=FutureWarning)"
   ]
  },
  {
   "cell_type": "markdown",
   "metadata": {},
   "source": [
    "To use the **geocoder**, we need only provide:\n",
    "- the name or address as a Python string, and\n",
    "- the name of the provider. To avoid having to provide an API key, we'll use the **OpenStreetMap Nominatim** geocoder.\n",
    "\n",
    "If the geocoding is successful, it returns a **GeoDataFrame** with two columns:\n",
    "- the \"**geometry**\" column contains the (latitude, longitude) location, and\n",
    "- the \"**address**\" column contains the full address."
   ]
  },
  {
   "cell_type": "code",
   "execution_count": 2,
   "metadata": {},
   "outputs": [
    {
     "data": {
      "text/html": [
       "<div>\n",
       "<style scoped>\n",
       "    .dataframe tbody tr th:only-of-type {\n",
       "        vertical-align: middle;\n",
       "    }\n",
       "\n",
       "    .dataframe tbody tr th {\n",
       "        vertical-align: top;\n",
       "    }\n",
       "\n",
       "    .dataframe thead th {\n",
       "        text-align: right;\n",
       "    }\n",
       "</style>\n",
       "<table border=\"1\" class=\"dataframe\">\n",
       "  <thead>\n",
       "    <tr style=\"text-align: right;\">\n",
       "      <th></th>\n",
       "      <th>geometry</th>\n",
       "      <th>address</th>\n",
       "    </tr>\n",
       "  </thead>\n",
       "  <tbody>\n",
       "    <tr>\n",
       "      <th>0</th>\n",
       "      <td>POINT (31.13422 29.97915)</td>\n",
       "      <td>هرم خوفو, Cause way, كوم الأخضر, الجيزة, محافظ...</td>\n",
       "    </tr>\n",
       "  </tbody>\n",
       "</table>\n",
       "</div>"
      ],
      "text/plain": [
       "                    geometry  \\\n",
       "0  POINT (31.13422 29.97915)   \n",
       "\n",
       "                                             address  \n",
       "0  هرم خوفو, Cause way, كوم الأخضر, الجيزة, محافظ...  "
      ]
     },
     "execution_count": 2,
     "metadata": {},
     "output_type": "execute_result"
    }
   ],
   "source": [
    "result = geocode(\"The Great Pyramid of Giza\", provider=\"nominatim\",\n",
    "                 user_agent='jupyter', timeout=4)\n",
    "result"
   ]
  },
  {
   "cell_type": "markdown",
   "metadata": {},
   "source": [
    "The entry in the \"**geometry**\" column is a **Point** object, and we can get the latitude and longitude from the **x** and **y** attributes, respectively."
   ]
  },
  {
   "cell_type": "code",
   "execution_count": 3,
   "metadata": {},
   "outputs": [
    {
     "name": "stdout",
     "output_type": "stream",
     "text": [
      "Latitude: 29.9791509\n",
      "Longitude: 31.134219302763587\n"
     ]
    }
   ],
   "source": [
    "point = result.geometry[0]\n",
    "print(\"Latitude:\", point.y)\n",
    "print(\"Longitude:\", point.x)"
   ]
  },
  {
   "cell_type": "markdown",
   "metadata": {},
   "source": [
    "### Geocoding of mutiple addresses\n",
    "\n",
    "It's often the case that we'll need to geocode many different addresses. For instance, say we want to obtain the locations of 100 top universities in Europe.\n"
   ]
  },
  {
   "cell_type": "code",
   "execution_count": 15,
   "metadata": {},
   "outputs": [
    {
     "data": {
      "text/html": [
       "<div>\n",
       "<style scoped>\n",
       "    .dataframe tbody tr th:only-of-type {\n",
       "        vertical-align: middle;\n",
       "    }\n",
       "\n",
       "    .dataframe tbody tr th {\n",
       "        vertical-align: top;\n",
       "    }\n",
       "\n",
       "    .dataframe thead th {\n",
       "        text-align: right;\n",
       "    }\n",
       "</style>\n",
       "<table border=\"1\" class=\"dataframe\">\n",
       "  <thead>\n",
       "    <tr style=\"text-align: right;\">\n",
       "      <th></th>\n",
       "      <th>Name</th>\n",
       "    </tr>\n",
       "  </thead>\n",
       "  <tbody>\n",
       "    <tr>\n",
       "      <th>0</th>\n",
       "      <td>University of Oxford</td>\n",
       "    </tr>\n",
       "    <tr>\n",
       "      <th>1</th>\n",
       "      <td>University of Cambridge</td>\n",
       "    </tr>\n",
       "    <tr>\n",
       "      <th>2</th>\n",
       "      <td>Imperial College London</td>\n",
       "    </tr>\n",
       "    <tr>\n",
       "      <th>3</th>\n",
       "      <td>ETH Zurich</td>\n",
       "    </tr>\n",
       "    <tr>\n",
       "      <th>4</th>\n",
       "      <td>UCL</td>\n",
       "    </tr>\n",
       "  </tbody>\n",
       "</table>\n",
       "</div>"
      ],
      "text/plain": [
       "                      Name\n",
       "0     University of Oxford\n",
       "1  University of Cambridge\n",
       "2  Imperial College London\n",
       "3               ETH Zurich\n",
       "4                      UCL"
      ]
     },
     "execution_count": 15,
     "metadata": {},
     "output_type": "execute_result"
    }
   ],
   "source": [
    "universities = pd.read_csv(\"../input/top_universities.csv\")\n",
    "universities = universities.head(20)\n",
    "universities.head()"
   ]
  },
  {
   "cell_type": "markdown",
   "metadata": {},
   "source": [
    "Then we can use a **lambda** function to apply the geocoder to every row in the DataFrame. We use a **try/except** statement to account for the case that the geocoding may be unsuccessful."
   ]
  },
  {
   "cell_type": "code",
   "execution_count": 16,
   "metadata": {},
   "outputs": [
    {
     "data": {
      "text/html": [
       "<div>\n",
       "<style scoped>\n",
       "    .dataframe tbody tr th:only-of-type {\n",
       "        vertical-align: middle;\n",
       "    }\n",
       "\n",
       "    .dataframe tbody tr th {\n",
       "        vertical-align: top;\n",
       "    }\n",
       "\n",
       "    .dataframe thead th {\n",
       "        text-align: right;\n",
       "    }\n",
       "</style>\n",
       "<table border=\"1\" class=\"dataframe\">\n",
       "  <thead>\n",
       "    <tr style=\"text-align: right;\">\n",
       "      <th></th>\n",
       "      <th>Name</th>\n",
       "      <th>address</th>\n",
       "      <th>geometry</th>\n",
       "      <th>latitude</th>\n",
       "      <th>longitude</th>\n",
       "    </tr>\n",
       "  </thead>\n",
       "  <tbody>\n",
       "    <tr>\n",
       "      <th>0</th>\n",
       "      <td>University of Oxford</td>\n",
       "      <td>Oxford University Museum of Natural History, P...</td>\n",
       "      <td>POINT (-1.255668482609204 51.75870755)</td>\n",
       "      <td>51.758708</td>\n",
       "      <td>-1.255668</td>\n",
       "    </tr>\n",
       "    <tr>\n",
       "      <th>1</th>\n",
       "      <td>University of Cambridge</td>\n",
       "      <td>Fitzwilliam Museum, Trumpington Street, Newnha...</td>\n",
       "      <td>POINT (0.1197386574107438 52.1998523)</td>\n",
       "      <td>52.199852</td>\n",
       "      <td>0.119739</td>\n",
       "    </tr>\n",
       "    <tr>\n",
       "      <th>2</th>\n",
       "      <td>Imperial College London</td>\n",
       "      <td>Imperial College London, Exhibition Road, Brom...</td>\n",
       "      <td>POINT (-0.1746287460939027 51.4989834)</td>\n",
       "      <td>51.498983</td>\n",
       "      <td>-0.174629</td>\n",
       "    </tr>\n",
       "    <tr>\n",
       "      <th>3</th>\n",
       "      <td>ETH Zurich</td>\n",
       "      <td>ETH Merchandise Store, 3, Sonneggstrasse, Ober...</td>\n",
       "      <td>POINT (8.5475089 47.3773269)</td>\n",
       "      <td>47.377327</td>\n",
       "      <td>8.547509</td>\n",
       "    </tr>\n",
       "    <tr>\n",
       "      <th>4</th>\n",
       "      <td>UCL</td>\n",
       "      <td>Petrie Museum of Egyptian Archeology, Malet Pl...</td>\n",
       "      <td>POINT (-0.1329564742107762 51.5235641)</td>\n",
       "      <td>51.523564</td>\n",
       "      <td>-0.132956</td>\n",
       "    </tr>\n",
       "  </tbody>\n",
       "</table>\n",
       "</div>"
      ],
      "text/plain": [
       "                      Name                                            address  \\\n",
       "0     University of Oxford  Oxford University Museum of Natural History, P...   \n",
       "1  University of Cambridge  Fitzwilliam Museum, Trumpington Street, Newnha...   \n",
       "2  Imperial College London  Imperial College London, Exhibition Road, Brom...   \n",
       "3               ETH Zurich  ETH Merchandise Store, 3, Sonneggstrasse, Ober...   \n",
       "4                      UCL  Petrie Museum of Egyptian Archeology, Malet Pl...   \n",
       "\n",
       "                                 geometry   latitude  longitude  \n",
       "0  POINT (-1.255668482609204 51.75870755)  51.758708  -1.255668  \n",
       "1   POINT (0.1197386574107438 52.1998523)  52.199852   0.119739  \n",
       "2  POINT (-0.1746287460939027 51.4989834)  51.498983  -0.174629  \n",
       "3            POINT (8.5475089 47.3773269)  47.377327   8.547509  \n",
       "4  POINT (-0.1329564742107762 51.5235641)  51.523564  -0.132956  "
      ]
     },
     "execution_count": 16,
     "metadata": {},
     "output_type": "execute_result"
    }
   ],
   "source": [
    "def my_geocoder(name):\n",
    "    try:\n",
    "        result = geocode(name, provider=\"nominatim\",\n",
    "                         user_agent='jupyter', timeout=2).iloc[0]\n",
    "        point = result.geometry\n",
    "        address = result.address\n",
    "        return pd.Series({'address': address, 'geometry': point,\n",
    "                          'latitude': point.y, 'longitude':point.x})\n",
    "    except:\n",
    "        return None\n",
    "    \n",
    "universities[['address', 'geometry', \n",
    "              'latitude', 'longitude']] = universities.apply(lambda row: my_geocoder(row.Name), \n",
    "                                                             axis=1)\n",
    "universities.head(5)"
   ]
  },
  {
   "cell_type": "code",
   "execution_count": 17,
   "metadata": {},
   "outputs": [
    {
     "name": "stdout",
     "output_type": "stream",
     "text": [
      "90.0% of addresses were geocoded!\n"
     ]
    }
   ],
   "source": [
    "print(\"{}% of addresses were geocoded!\".format(\n",
    "    (1 - sum(universities.address.apply(lambda a: not a)) / len(universities)) * 100))"
   ]
  },
  {
   "cell_type": "code",
   "execution_count": 18,
   "metadata": {},
   "outputs": [
    {
     "data": {
      "text/html": [
       "<div>\n",
       "<style scoped>\n",
       "    .dataframe tbody tr th:only-of-type {\n",
       "        vertical-align: middle;\n",
       "    }\n",
       "\n",
       "    .dataframe tbody tr th {\n",
       "        vertical-align: top;\n",
       "    }\n",
       "\n",
       "    .dataframe thead th {\n",
       "        text-align: right;\n",
       "    }\n",
       "</style>\n",
       "<table border=\"1\" class=\"dataframe\">\n",
       "  <thead>\n",
       "    <tr style=\"text-align: right;\">\n",
       "      <th></th>\n",
       "      <th>Name</th>\n",
       "      <th>address</th>\n",
       "      <th>geometry</th>\n",
       "      <th>latitude</th>\n",
       "      <th>longitude</th>\n",
       "    </tr>\n",
       "  </thead>\n",
       "  <tbody>\n",
       "    <tr>\n",
       "      <th>0</th>\n",
       "      <td>University of Oxford</td>\n",
       "      <td>Oxford University Museum of Natural History, P...</td>\n",
       "      <td>POINT (-1.25567 51.75871)</td>\n",
       "      <td>51.758708</td>\n",
       "      <td>-1.255668</td>\n",
       "    </tr>\n",
       "    <tr>\n",
       "      <th>1</th>\n",
       "      <td>University of Cambridge</td>\n",
       "      <td>Fitzwilliam Museum, Trumpington Street, Newnha...</td>\n",
       "      <td>POINT (0.11974 52.19985)</td>\n",
       "      <td>52.199852</td>\n",
       "      <td>0.119739</td>\n",
       "    </tr>\n",
       "    <tr>\n",
       "      <th>2</th>\n",
       "      <td>Imperial College London</td>\n",
       "      <td>Imperial College London, Exhibition Road, Brom...</td>\n",
       "      <td>POINT (-0.17463 51.49898)</td>\n",
       "      <td>51.498983</td>\n",
       "      <td>-0.174629</td>\n",
       "    </tr>\n",
       "    <tr>\n",
       "      <th>3</th>\n",
       "      <td>ETH Zurich</td>\n",
       "      <td>ETH Merchandise Store, 3, Sonneggstrasse, Ober...</td>\n",
       "      <td>POINT (8.54751 47.37733)</td>\n",
       "      <td>47.377327</td>\n",
       "      <td>8.547509</td>\n",
       "    </tr>\n",
       "    <tr>\n",
       "      <th>4</th>\n",
       "      <td>UCL</td>\n",
       "      <td>Petrie Museum of Egyptian Archeology, Malet Pl...</td>\n",
       "      <td>POINT (-0.13296 51.52356)</td>\n",
       "      <td>51.523564</td>\n",
       "      <td>-0.132956</td>\n",
       "    </tr>\n",
       "  </tbody>\n",
       "</table>\n",
       "</div>"
      ],
      "text/plain": [
       "                      Name                                            address  \\\n",
       "0     University of Oxford  Oxford University Museum of Natural History, P...   \n",
       "1  University of Cambridge  Fitzwilliam Museum, Trumpington Street, Newnha...   \n",
       "2  Imperial College London  Imperial College London, Exhibition Road, Brom...   \n",
       "3               ETH Zurich  ETH Merchandise Store, 3, Sonneggstrasse, Ober...   \n",
       "4                      UCL  Petrie Museum of Egyptian Archeology, Malet Pl...   \n",
       "\n",
       "                    geometry   latitude  longitude  \n",
       "0  POINT (-1.25567 51.75871)  51.758708  -1.255668  \n",
       "1   POINT (0.11974 52.19985)  52.199852   0.119739  \n",
       "2  POINT (-0.17463 51.49898)  51.498983  -0.174629  \n",
       "3   POINT (8.54751 47.37733)  47.377327   8.547509  \n",
       "4  POINT (-0.13296 51.52356)  51.523564  -0.132956  "
      ]
     },
     "execution_count": 18,
     "metadata": {},
     "output_type": "execute_result"
    }
   ],
   "source": [
    "# Drop universities that were not successfully geocoded\n",
    "universities = universities.loc[~np.isnan(universities.latitude)]\n",
    "universities = gpd.GeoDataFrame(universities, geometry=universities.geometry)\n",
    "universities.crs = {'init': 'epsg:4326'}\n",
    "universities.head()"
   ]
  },
  {
   "cell_type": "markdown",
   "metadata": {},
   "source": [
    "Next, we visualize all of the locations that were returned by the geocoder. Notice that a few of the locations are certainly inaccurate, as they're not in Europe!"
   ]
  },
  {
   "cell_type": "code",
   "execution_count": 19,
   "metadata": {},
   "outputs": [
    {
     "data": {
      "text/html": [
       "<div style=\"width:100%;\"><div style=\"position:relative;width:100%;height:0;padding-bottom:60%;\"><span style=\"color:#565656\">Make this Notebook Trusted to load map: File -> Trust Notebook</span><iframe src=\"about:blank\" style=\"position:absolute;width:100%;height:100%;left:0;top:0;border:none !important;\" data-html=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 onload=\"this.contentDocument.open();this.contentDocument.write(atob(this.getAttribute('data-html')));this.contentDocument.close();\" allowfullscreen webkitallowfullscreen mozallowfullscreen></iframe></div></div>"
      ],
      "text/plain": [
       "<folium.folium.Map at 0x7f8963b20750>"
      ]
     },
     "execution_count": 19,
     "metadata": {},
     "output_type": "execute_result"
    }
   ],
   "source": [
    "import folium\n",
    "\n",
    "# Create a map\n",
    "m = folium.Map(location=[54, 15], tiles='openstreetmap', zoom_start=3)\n",
    "\n",
    "# Add points to the map\n",
    "for idx, row in universities.iterrows():\n",
    "    folium.Marker([row.geometry.y, row.geometry.x], popup=row['Name']).add_to(m)\n",
    "m"
   ]
  },
  {
   "cell_type": "markdown",
   "metadata": {},
   "source": [
    "## Table joins\n",
    "\n",
    "Now, we'll switch topics and think about how to combine data from different source"
   ]
  },
  {
   "cell_type": "code",
   "execution_count": 31,
   "metadata": {},
   "outputs": [
    {
     "data": {
      "text/html": [
       "<div>\n",
       "<style scoped>\n",
       "    .dataframe tbody tr th:only-of-type {\n",
       "        vertical-align: middle;\n",
       "    }\n",
       "\n",
       "    .dataframe tbody tr th {\n",
       "        vertical-align: top;\n",
       "    }\n",
       "\n",
       "    .dataframe thead th {\n",
       "        text-align: right;\n",
       "    }\n",
       "</style>\n",
       "<table border=\"1\" class=\"dataframe\">\n",
       "  <thead>\n",
       "    <tr style=\"text-align: right;\">\n",
       "      <th></th>\n",
       "      <th>pop_est</th>\n",
       "      <th>continent</th>\n",
       "      <th>name</th>\n",
       "      <th>iso_a3</th>\n",
       "      <th>gdp_md_est</th>\n",
       "      <th>geometry</th>\n",
       "    </tr>\n",
       "  </thead>\n",
       "  <tbody>\n",
       "    <tr>\n",
       "      <th>18</th>\n",
       "      <td>142257519</td>\n",
       "      <td>Europe</td>\n",
       "      <td>Russia</td>\n",
       "      <td>RUS</td>\n",
       "      <td>3745000.0</td>\n",
       "      <td>MULTIPOLYGON (((178.725 71.099, 180.000 71.516...</td>\n",
       "    </tr>\n",
       "    <tr>\n",
       "      <th>21</th>\n",
       "      <td>5320045</td>\n",
       "      <td>Europe</td>\n",
       "      <td>Norway</td>\n",
       "      <td>-99</td>\n",
       "      <td>364700.0</td>\n",
       "      <td>MULTIPOLYGON (((15.143 79.674, 15.523 80.016, ...</td>\n",
       "    </tr>\n",
       "    <tr>\n",
       "      <th>43</th>\n",
       "      <td>67106161</td>\n",
       "      <td>Europe</td>\n",
       "      <td>France</td>\n",
       "      <td>-99</td>\n",
       "      <td>2699000.0</td>\n",
       "      <td>MULTIPOLYGON (((-51.658 4.156, -52.249 3.241, ...</td>\n",
       "    </tr>\n",
       "    <tr>\n",
       "      <th>110</th>\n",
       "      <td>9960487</td>\n",
       "      <td>Europe</td>\n",
       "      <td>Sweden</td>\n",
       "      <td>SWE</td>\n",
       "      <td>498100.0</td>\n",
       "      <td>POLYGON ((11.027 58.856, 11.468 59.432, 12.300...</td>\n",
       "    </tr>\n",
       "    <tr>\n",
       "      <th>111</th>\n",
       "      <td>9549747</td>\n",
       "      <td>Europe</td>\n",
       "      <td>Belarus</td>\n",
       "      <td>BLR</td>\n",
       "      <td>165400.0</td>\n",
       "      <td>POLYGON ((28.177 56.169, 29.230 55.918, 29.372...</td>\n",
       "    </tr>\n",
       "  </tbody>\n",
       "</table>\n",
       "</div>"
      ],
      "text/plain": [
       "       pop_est continent     name iso_a3  gdp_md_est  \\\n",
       "18   142257519    Europe   Russia    RUS   3745000.0   \n",
       "21     5320045    Europe   Norway    -99    364700.0   \n",
       "43    67106161    Europe   France    -99   2699000.0   \n",
       "110    9960487    Europe   Sweden    SWE    498100.0   \n",
       "111    9549747    Europe  Belarus    BLR    165400.0   \n",
       "\n",
       "                                              geometry  \n",
       "18   MULTIPOLYGON (((178.725 71.099, 180.000 71.516...  \n",
       "21   MULTIPOLYGON (((15.143 79.674, 15.523 80.016, ...  \n",
       "43   MULTIPOLYGON (((-51.658 4.156, -52.249 3.241, ...  \n",
       "110  POLYGON ((11.027 58.856, 11.468 59.432, 12.300...  \n",
       "111  POLYGON ((28.177 56.169, 29.230 55.918, 29.372...  "
      ]
     },
     "execution_count": 31,
     "metadata": {},
     "output_type": "execute_result"
    }
   ],
   "source": [
    "# This dataset is provided in GeoPandas\n",
    "world = gpd.read_file(gpd.datasets.get_path('naturalearth_lowres'))\n",
    "europe = world.loc[world.continent.isin(['Europe'])]\n",
    "europe.crs = {'init' :'epsg:4326'}\n",
    "europe.head()"
   ]
  },
  {
   "cell_type": "markdown",
   "metadata": {},
   "source": [
    "### Attribute join\n",
    "\n",
    "You already know how to use `pd.DataFrame.join()` to combine information from multiple DataFrames with a shared index. We refer to this way of joining data (by simpling matching values in the index) as an **attribute join**.\n",
    "\n",
    "When performing an attribute join with a **GeoDataFrame**, it's best to use the `gpd.GeoDataFrame.merge()`. \n",
    "\n",
    "To illustrate this, we'll work with the **GeoDataFrame** `europe_boundaries` containing the boundaries for every country in Europe. The first five rows of this **GeoDataFrame** are printed below."
   ]
  },
  {
   "cell_type": "code",
   "execution_count": 32,
   "metadata": {
    "scrolled": true
   },
   "outputs": [
    {
     "data": {
      "text/html": [
       "<div>\n",
       "<style scoped>\n",
       "    .dataframe tbody tr th:only-of-type {\n",
       "        vertical-align: middle;\n",
       "    }\n",
       "\n",
       "    .dataframe tbody tr th {\n",
       "        vertical-align: top;\n",
       "    }\n",
       "\n",
       "    .dataframe thead th {\n",
       "        text-align: right;\n",
       "    }\n",
       "</style>\n",
       "<table border=\"1\" class=\"dataframe\">\n",
       "  <thead>\n",
       "    <tr style=\"text-align: right;\">\n",
       "      <th></th>\n",
       "      <th>name</th>\n",
       "      <th>geometry</th>\n",
       "    </tr>\n",
       "  </thead>\n",
       "  <tbody>\n",
       "    <tr>\n",
       "      <th>18</th>\n",
       "      <td>Russia</td>\n",
       "      <td>MULTIPOLYGON (((178.725 71.099, 180.000 71.516...</td>\n",
       "    </tr>\n",
       "    <tr>\n",
       "      <th>21</th>\n",
       "      <td>Norway</td>\n",
       "      <td>MULTIPOLYGON (((15.143 79.674, 15.523 80.016, ...</td>\n",
       "    </tr>\n",
       "    <tr>\n",
       "      <th>43</th>\n",
       "      <td>France</td>\n",
       "      <td>MULTIPOLYGON (((-51.658 4.156, -52.249 3.241, ...</td>\n",
       "    </tr>\n",
       "    <tr>\n",
       "      <th>110</th>\n",
       "      <td>Sweden</td>\n",
       "      <td>POLYGON ((11.027 58.856, 11.468 59.432, 12.300...</td>\n",
       "    </tr>\n",
       "    <tr>\n",
       "      <th>111</th>\n",
       "      <td>Belarus</td>\n",
       "      <td>POLYGON ((28.177 56.169, 29.230 55.918, 29.372...</td>\n",
       "    </tr>\n",
       "  </tbody>\n",
       "</table>\n",
       "</div>"
      ],
      "text/plain": [
       "        name                                           geometry\n",
       "18    Russia  MULTIPOLYGON (((178.725 71.099, 180.000 71.516...\n",
       "21    Norway  MULTIPOLYGON (((15.143 79.674, 15.523 80.016, ...\n",
       "43    France  MULTIPOLYGON (((-51.658 4.156, -52.249 3.241, ...\n",
       "110   Sweden  POLYGON ((11.027 58.856, 11.468 59.432, 12.300...\n",
       "111  Belarus  POLYGON ((28.177 56.169, 29.230 55.918, 29.372..."
      ]
     },
     "execution_count": 32,
     "metadata": {},
     "output_type": "execute_result"
    }
   ],
   "source": [
    "europe_boundaries = europe.loc[:, ['name', 'geometry']]\n",
    "europe_boundaries.head()"
   ]
  },
  {
   "cell_type": "markdown",
   "metadata": {},
   "source": [
    "We'll join it with a DataFrame europe_stats containing the estimated population and gross domestic product (GDP) for each country."
   ]
  },
  {
   "cell_type": "code",
   "execution_count": 33,
   "metadata": {},
   "outputs": [
    {
     "data": {
      "text/html": [
       "<div>\n",
       "<style scoped>\n",
       "    .dataframe tbody tr th:only-of-type {\n",
       "        vertical-align: middle;\n",
       "    }\n",
       "\n",
       "    .dataframe tbody tr th {\n",
       "        vertical-align: top;\n",
       "    }\n",
       "\n",
       "    .dataframe thead th {\n",
       "        text-align: right;\n",
       "    }\n",
       "</style>\n",
       "<table border=\"1\" class=\"dataframe\">\n",
       "  <thead>\n",
       "    <tr style=\"text-align: right;\">\n",
       "      <th></th>\n",
       "      <th>name</th>\n",
       "      <th>pop_est</th>\n",
       "      <th>gdp_md_est</th>\n",
       "    </tr>\n",
       "  </thead>\n",
       "  <tbody>\n",
       "    <tr>\n",
       "      <th>18</th>\n",
       "      <td>Russia</td>\n",
       "      <td>142257519</td>\n",
       "      <td>3745000.0</td>\n",
       "    </tr>\n",
       "    <tr>\n",
       "      <th>21</th>\n",
       "      <td>Norway</td>\n",
       "      <td>5320045</td>\n",
       "      <td>364700.0</td>\n",
       "    </tr>\n",
       "    <tr>\n",
       "      <th>43</th>\n",
       "      <td>France</td>\n",
       "      <td>67106161</td>\n",
       "      <td>2699000.0</td>\n",
       "    </tr>\n",
       "    <tr>\n",
       "      <th>110</th>\n",
       "      <td>Sweden</td>\n",
       "      <td>9960487</td>\n",
       "      <td>498100.0</td>\n",
       "    </tr>\n",
       "    <tr>\n",
       "      <th>111</th>\n",
       "      <td>Belarus</td>\n",
       "      <td>9549747</td>\n",
       "      <td>165400.0</td>\n",
       "    </tr>\n",
       "  </tbody>\n",
       "</table>\n",
       "</div>"
      ],
      "text/plain": [
       "        name    pop_est  gdp_md_est\n",
       "18    Russia  142257519   3745000.0\n",
       "21    Norway    5320045    364700.0\n",
       "43    France   67106161   2699000.0\n",
       "110   Sweden    9960487    498100.0\n",
       "111  Belarus    9549747    165400.0"
      ]
     },
     "execution_count": 33,
     "metadata": {},
     "output_type": "execute_result"
    }
   ],
   "source": [
    "europe_stats = europe.loc[:, ['name', 'pop_est', 'gdp_md_est']]\n",
    "europe_stats.head()"
   ]
  },
  {
   "cell_type": "markdown",
   "metadata": {},
   "source": [
    "We do the attribute join in the code cell below. \n",
    "\n",
    "The **on** argument is set to the column name that is used to match rows in **europe_boundaries** to rows in **europe_stats**."
   ]
  },
  {
   "cell_type": "code",
   "execution_count": 34,
   "metadata": {},
   "outputs": [
    {
     "data": {
      "text/html": [
       "<div>\n",
       "<style scoped>\n",
       "    .dataframe tbody tr th:only-of-type {\n",
       "        vertical-align: middle;\n",
       "    }\n",
       "\n",
       "    .dataframe tbody tr th {\n",
       "        vertical-align: top;\n",
       "    }\n",
       "\n",
       "    .dataframe thead th {\n",
       "        text-align: right;\n",
       "    }\n",
       "</style>\n",
       "<table border=\"1\" class=\"dataframe\">\n",
       "  <thead>\n",
       "    <tr style=\"text-align: right;\">\n",
       "      <th></th>\n",
       "      <th>name</th>\n",
       "      <th>geometry</th>\n",
       "      <th>pop_est</th>\n",
       "      <th>gdp_md_est</th>\n",
       "    </tr>\n",
       "  </thead>\n",
       "  <tbody>\n",
       "    <tr>\n",
       "      <th>0</th>\n",
       "      <td>Russia</td>\n",
       "      <td>MULTIPOLYGON (((178.725 71.099, 180.000 71.516...</td>\n",
       "      <td>142257519</td>\n",
       "      <td>3745000.0</td>\n",
       "    </tr>\n",
       "    <tr>\n",
       "      <th>1</th>\n",
       "      <td>Norway</td>\n",
       "      <td>MULTIPOLYGON (((15.143 79.674, 15.523 80.016, ...</td>\n",
       "      <td>5320045</td>\n",
       "      <td>364700.0</td>\n",
       "    </tr>\n",
       "    <tr>\n",
       "      <th>2</th>\n",
       "      <td>France</td>\n",
       "      <td>MULTIPOLYGON (((-51.658 4.156, -52.249 3.241, ...</td>\n",
       "      <td>67106161</td>\n",
       "      <td>2699000.0</td>\n",
       "    </tr>\n",
       "    <tr>\n",
       "      <th>3</th>\n",
       "      <td>Sweden</td>\n",
       "      <td>POLYGON ((11.027 58.856, 11.468 59.432, 12.300...</td>\n",
       "      <td>9960487</td>\n",
       "      <td>498100.0</td>\n",
       "    </tr>\n",
       "    <tr>\n",
       "      <th>4</th>\n",
       "      <td>Belarus</td>\n",
       "      <td>POLYGON ((28.177 56.169, 29.230 55.918, 29.372...</td>\n",
       "      <td>9549747</td>\n",
       "      <td>165400.0</td>\n",
       "    </tr>\n",
       "  </tbody>\n",
       "</table>\n",
       "</div>"
      ],
      "text/plain": [
       "      name                                           geometry    pop_est  \\\n",
       "0   Russia  MULTIPOLYGON (((178.725 71.099, 180.000 71.516...  142257519   \n",
       "1   Norway  MULTIPOLYGON (((15.143 79.674, 15.523 80.016, ...    5320045   \n",
       "2   France  MULTIPOLYGON (((-51.658 4.156, -52.249 3.241, ...   67106161   \n",
       "3   Sweden  POLYGON ((11.027 58.856, 11.468 59.432, 12.300...    9960487   \n",
       "4  Belarus  POLYGON ((28.177 56.169, 29.230 55.918, 29.372...    9549747   \n",
       "\n",
       "   gdp_md_est  \n",
       "0   3745000.0  \n",
       "1    364700.0  \n",
       "2   2699000.0  \n",
       "3    498100.0  \n",
       "4    165400.0  "
      ]
     },
     "execution_count": 34,
     "metadata": {},
     "output_type": "execute_result"
    }
   ],
   "source": [
    "# Use an attribute join to merge data about countries in Europe\n",
    "europe_join = europe_boundaries.merge(europe_stats, on=\"name\")\n",
    "europe_join.head()"
   ]
  },
  {
   "cell_type": "markdown",
   "metadata": {},
   "source": [
    "### Spatial join\n",
    "\n",
    "Another type of join is a spatial join. With a spatial join, we combine GeoDataFrames based on the spatial relationship between the objects in the \"**geometry**\" columns. \n",
    "\n",
    "For instance, we already have a GeoDataFrame universities containing geocoded addresses of European universities. Then we can use a spatial join to match each university to its corresponding country.\n",
    "\n",
    "We do this with `gpd.sjoin()`."
   ]
  },
  {
   "cell_type": "code",
   "execution_count": 35,
   "metadata": {},
   "outputs": [
    {
     "name": "stdout",
     "output_type": "stream",
     "text": [
      "We located 18 universities.\n",
      "Only 17 of the universities were located in Europe (in 5 different countries).\n"
     ]
    },
    {
     "data": {
      "text/html": [
       "<div>\n",
       "<style scoped>\n",
       "    .dataframe tbody tr th:only-of-type {\n",
       "        vertical-align: middle;\n",
       "    }\n",
       "\n",
       "    .dataframe tbody tr th {\n",
       "        vertical-align: top;\n",
       "    }\n",
       "\n",
       "    .dataframe thead th {\n",
       "        text-align: right;\n",
       "    }\n",
       "</style>\n",
       "<table border=\"1\" class=\"dataframe\">\n",
       "  <thead>\n",
       "    <tr style=\"text-align: right;\">\n",
       "      <th></th>\n",
       "      <th>Name</th>\n",
       "      <th>address</th>\n",
       "      <th>geometry</th>\n",
       "      <th>latitude</th>\n",
       "      <th>longitude</th>\n",
       "      <th>index_right</th>\n",
       "      <th>pop_est</th>\n",
       "      <th>continent</th>\n",
       "      <th>name</th>\n",
       "      <th>iso_a3</th>\n",
       "      <th>gdp_md_est</th>\n",
       "    </tr>\n",
       "  </thead>\n",
       "  <tbody>\n",
       "    <tr>\n",
       "      <th>0</th>\n",
       "      <td>University of Oxford</td>\n",
       "      <td>Oxford University Museum of Natural History, P...</td>\n",
       "      <td>POINT (-1.25567 51.75871)</td>\n",
       "      <td>51.758708</td>\n",
       "      <td>-1.255668</td>\n",
       "      <td>143</td>\n",
       "      <td>64769452</td>\n",
       "      <td>Europe</td>\n",
       "      <td>United Kingdom</td>\n",
       "      <td>GBR</td>\n",
       "      <td>2788000.0</td>\n",
       "    </tr>\n",
       "    <tr>\n",
       "      <th>1</th>\n",
       "      <td>University of Cambridge</td>\n",
       "      <td>Fitzwilliam Museum, Trumpington Street, Newnha...</td>\n",
       "      <td>POINT (0.11974 52.19985)</td>\n",
       "      <td>52.199852</td>\n",
       "      <td>0.119739</td>\n",
       "      <td>143</td>\n",
       "      <td>64769452</td>\n",
       "      <td>Europe</td>\n",
       "      <td>United Kingdom</td>\n",
       "      <td>GBR</td>\n",
       "      <td>2788000.0</td>\n",
       "    </tr>\n",
       "    <tr>\n",
       "      <th>2</th>\n",
       "      <td>Imperial College London</td>\n",
       "      <td>Imperial College London, Exhibition Road, Brom...</td>\n",
       "      <td>POINT (-0.17463 51.49898)</td>\n",
       "      <td>51.498983</td>\n",
       "      <td>-0.174629</td>\n",
       "      <td>143</td>\n",
       "      <td>64769452</td>\n",
       "      <td>Europe</td>\n",
       "      <td>United Kingdom</td>\n",
       "      <td>GBR</td>\n",
       "      <td>2788000.0</td>\n",
       "    </tr>\n",
       "    <tr>\n",
       "      <th>4</th>\n",
       "      <td>UCL</td>\n",
       "      <td>Petrie Museum of Egyptian Archeology, Malet Pl...</td>\n",
       "      <td>POINT (-0.13296 51.52356)</td>\n",
       "      <td>51.523564</td>\n",
       "      <td>-0.132956</td>\n",
       "      <td>143</td>\n",
       "      <td>64769452</td>\n",
       "      <td>Europe</td>\n",
       "      <td>United Kingdom</td>\n",
       "      <td>GBR</td>\n",
       "      <td>2788000.0</td>\n",
       "    </tr>\n",
       "    <tr>\n",
       "      <th>5</th>\n",
       "      <td>London School of Economics and Political Science</td>\n",
       "      <td>London School of Economics and Political Scien...</td>\n",
       "      <td>POINT (-0.11643 51.51459)</td>\n",
       "      <td>51.514591</td>\n",
       "      <td>-0.116431</td>\n",
       "      <td>143</td>\n",
       "      <td>64769452</td>\n",
       "      <td>Europe</td>\n",
       "      <td>United Kingdom</td>\n",
       "      <td>GBR</td>\n",
       "      <td>2788000.0</td>\n",
       "    </tr>\n",
       "  </tbody>\n",
       "</table>\n",
       "</div>"
      ],
      "text/plain": [
       "                                               Name  \\\n",
       "0                              University of Oxford   \n",
       "1                           University of Cambridge   \n",
       "2                           Imperial College London   \n",
       "4                                               UCL   \n",
       "5  London School of Economics and Political Science   \n",
       "\n",
       "                                             address  \\\n",
       "0  Oxford University Museum of Natural History, P...   \n",
       "1  Fitzwilliam Museum, Trumpington Street, Newnha...   \n",
       "2  Imperial College London, Exhibition Road, Brom...   \n",
       "4  Petrie Museum of Egyptian Archeology, Malet Pl...   \n",
       "5  London School of Economics and Political Scien...   \n",
       "\n",
       "                    geometry   latitude  longitude  index_right   pop_est  \\\n",
       "0  POINT (-1.25567 51.75871)  51.758708  -1.255668          143  64769452   \n",
       "1   POINT (0.11974 52.19985)  52.199852   0.119739          143  64769452   \n",
       "2  POINT (-0.17463 51.49898)  51.498983  -0.174629          143  64769452   \n",
       "4  POINT (-0.13296 51.52356)  51.523564  -0.132956          143  64769452   \n",
       "5  POINT (-0.11643 51.51459)  51.514591  -0.116431          143  64769452   \n",
       "\n",
       "  continent            name iso_a3  gdp_md_est  \n",
       "0    Europe  United Kingdom    GBR   2788000.0  \n",
       "1    Europe  United Kingdom    GBR   2788000.0  \n",
       "2    Europe  United Kingdom    GBR   2788000.0  \n",
       "4    Europe  United Kingdom    GBR   2788000.0  \n",
       "5    Europe  United Kingdom    GBR   2788000.0  "
      ]
     },
     "execution_count": 35,
     "metadata": {},
     "output_type": "execute_result"
    }
   ],
   "source": [
    "# Use spatial join to match universities to countries in Europe\n",
    "european_universities = gpd.sjoin(universities, europe)\n",
    "\n",
    "# Investigate the result\n",
    "print(\"We located {} universities.\".format(len(universities)))\n",
    "print(\"Only {} of the universities were located in Europe (in {} different countries).\".format(\n",
    "    len(european_universities), len(european_universities.name.unique())))\n",
    "\n",
    "european_universities.head()"
   ]
  },
  {
   "cell_type": "markdown",
   "metadata": {},
   "source": [
    "The spatial join above looks at the \"geometry\" columns in both GeoDataFrames:\n",
    "- If a **Point** object from the universities GeoDataFrame intersects a Polygon object from the europe DataFrame, the corresponding rows are combined and added as a single row of the european_universities DataFrame.\n",
    "- Otherwise, countries without a matching university (and universities without a matching country) are omitted from the results.\n",
    "\n",
    "The `gpd.sjoin()` method is customizable for different types of joins, through the **how** and **op** arguments. For instance, you can do the equivalent of a SQL left (or right) join by setting `how='left'` (or `how='right'`). \n",
    "\n",
    "We won't go into the details in this micro-course, but you can learn more in the [GeoPandas documentation](https://geopandas.org/reference/geopandas.sjoin.html)"
   ]
  },
  {
   "cell_type": "code",
   "execution_count": null,
   "metadata": {},
   "outputs": [],
   "source": []
  }
 ],
 "metadata": {
  "kernelspec": {
   "display_name": "Python 3",
   "language": "python",
   "name": "python3"
  },
  "language_info": {
   "codemirror_mode": {
    "name": "ipython",
    "version": 3
   },
   "file_extension": ".py",
   "mimetype": "text/x-python",
   "name": "python",
   "nbconvert_exporter": "python",
   "pygments_lexer": "ipython3",
   "version": "3.7.8"
  }
 },
 "nbformat": 4,
 "nbformat_minor": 4
}
