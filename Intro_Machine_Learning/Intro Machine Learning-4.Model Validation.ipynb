{
 "cells": [
  {
   "cell_type": "markdown",
   "metadata": {},
   "source": [
    "# Model Validation\n",
    "\n",
    "## Intro\n",
    "\n",
    "You've built a model. But how good is it?\n",
    "\n",
    "In this lesson, you will learn to use model validation to measure the quality of your model. Measuring model quality is the key to iteratively improving your models.\n",
    "\n",
    "## What is Model Validation\n",
    "\n",
    "You'll want to evaluate almost every model you ever build. In most (though not all) applications, the relevant measure of model quality is predictive accuracy. In other words, will the model's predictions be close to what actually happens.\n",
    "\n",
    "Many people make a huge mistake when measuring predictive accuracy. They make predictions with their training data and compare those predictions to the target values in the training data. You'll see the problem with this approach and how to solve it in a moment, but let's think about how we'd do this first.\n",
    "\n",
    "You'd first need to summarize the model quality into an understandable way. If you compare predicted and actual home values for 10,000 houses, you'll likely find mix of good and bad predictions. Looking through a list of 10,000 predicted and actual values would be pointless. We need to summarize this into a single metric.\n",
    "\n",
    "There are many metrics for summarizing model quality, but we'll start with one called **Mean Absolute Error** (also called **MAE**). Let's break down this metric starting with the last word, error.\n",
    "\n",
    "The prediction error for each house is:\n",
    "```\n",
    "error = actual − predicted\n",
    "```\n",
    "\n",
    "So, if a house cost $150,000 and you predicted it would cost $100,000 the error is $50,000.\n",
    "\n",
    "With the **MAE** metric, we take the absolute value of each error. This converts each error to a positive number. We then take the average of those absolute errors. This is our measure of model quality.\n",
    "\n",
    "In plain English, it can be said as\n",
    "> On average, our predictions are off by about X.\n",
    "\n",
    "To calculate **MAE**, we first need a model. That is built in the cell below:"
   ]
  },
  {
   "cell_type": "code",
   "execution_count": 3,
   "metadata": {},
   "outputs": [
    {
     "data": {
      "text/plain": [
       "DecisionTreeRegressor()"
      ]
     },
     "execution_count": 3,
     "metadata": {},
     "output_type": "execute_result"
    }
   ],
   "source": [
    "import pandas as pd\n",
    "from sklearn.tree import DecisionTreeRegressor\n",
    "\n",
    "# Load data\n",
    "melb_file_path = '../input/melbourne-housing/melb_data.csv'\n",
    "melb_data = pd.read_csv(melb_file_path) \n",
    "# Filter rows with missing price values\n",
    "filtered_melb_data = melb_data.dropna(axis=0)\n",
    "# Choose target and features\n",
    "y = filtered_melb_data.Price\n",
    "melb_features = ['Rooms', 'Bathroom', 'Landsize', 'BuildingArea', \n",
    "                 'YearBuilt', 'Lattitude', 'Longtitude']\n",
    "\n",
    "X = filtered_melb_data[melb_features]\n",
    "# Define model\n",
    "melb_model = DecisionTreeRegressor()\n",
    "# Fit model\n",
    "melb_model.fit(X, y)"
   ]
  },
  {
   "cell_type": "markdown",
   "metadata": {},
   "source": [
    "Once we have a model, here is how we calculate the mean absolute error:"
   ]
  },
  {
   "cell_type": "code",
   "execution_count": 4,
   "metadata": {},
   "outputs": [
    {
     "name": "stdout",
     "output_type": "stream",
     "text": [
      "MAE: 434.72\n"
     ]
    }
   ],
   "source": [
    "from sklearn.metrics import mean_absolute_error\n",
    "\n",
    "predicted_home_prices = melb_model.predict(X)\n",
    "print(\"MAE: {:.2f}\".format(mean_absolute_error(y, predicted_home_prices)))"
   ]
  },
  {
   "cell_type": "markdown",
   "metadata": {},
   "source": [
    "## The Problem with \"In-Sample\" Scores\n",
    "\n",
    "The measure we just computed can be called an \"**in-sample**\" score. We used a single \"sample\" of houses for both building the model and evaluating it. Here's why this is bad.\n",
    "\n",
    "Imagine that, in the large real estate market, door color is unrelated to home price.\n",
    "\n",
    "However, in the sample of data you used to build the model, all homes with green doors were very expensive. The model's job is to find patterns that predict home prices, so it will see this pattern, and it will always predict high prices for homes with green doors.\n",
    "\n",
    "Since this pattern was derived from the training data, the model will appear accurate in the training data. But if this pattern doesn't hold when the model sees new data, the model would be very inaccurate when used in practice.\n",
    "\n",
    "Since models' practical value come from making predictions on new data, **we need to measure performance on data that wasn't used to build the model**. \n",
    "\n",
    "The most straightforward way to do this is to exclude some data from the model-building process, and then use those to test the model's accuracy on data it hasn't seen before. This data is called **validation data**.\n",
    "\n",
    "## Coding It\n",
    "\n",
    "The **scikit-learn** library has a function `train_test_split` to break up the data into two pieces. We'll use the first piece as training data to fit the model and we'll use the other data as validation data to calculate `mean_absolute_error`.\n",
    "\n",
    "Here is the code:"
   ]
  },
  {
   "cell_type": "code",
   "execution_count": 5,
   "metadata": {},
   "outputs": [
    {
     "name": "stdout",
     "output_type": "stream",
     "text": [
      "MAE: 253077.99\n"
     ]
    }
   ],
   "source": [
    "from sklearn.model_selection import train_test_split\n",
    "\n",
    "# split data into training and validation data, for both features and target\n",
    "# Supplying the random_state argument guarantees we get the same split every time\n",
    "train_X, val_X, train_y, val_y = train_test_split(X, y, test_size = 0.2, random_state = 0)\n",
    "\n",
    "# Define and fit model\n",
    "melb_model = DecisionTreeRegressor()\n",
    "melb_model.fit(train_X, train_y)\n",
    "\n",
    "# get predicted prices on validation data\n",
    "val_predictions = melb_model.predict(val_X)\n",
    "print(\"MAE: {:.2f}\".format(mean_absolute_error(val_y, val_predictions)))"
   ]
  },
  {
   "cell_type": "markdown",
   "metadata": {},
   "source": [
    "### Wow!\n",
    "\n",
    "Your mean absolute error for the in-sample data was about 500 dollars; but out-of-sample it is more than 250,000 dollars!!\n",
    "\n",
    "This is the difference between a model that is almost exactly right, and one that is unusable for most practical purposes. As a point of reference, the average home value in the validation data is 1.1 million dollars. So the error in new data is about a quarter of the average home value.\n",
    "\n",
    "There are many ways to improve this model, such as experimenting to find better features or different model types.\n"
   ]
  },
  {
   "cell_type": "markdown",
   "metadata": {},
   "source": [
    "## Experimenting With Different Models\n",
    "\n",
    "Now that you have a reliable way to measure model accuracy, you can experiment with alternative models and see which gives the best predictions. But what alternatives do you have for models?\n",
    "\n",
    "You can see in scikit-learn's [documentation](https://scikit-learn.org/stable/modules/generated/sklearn.tree.DecisionTreeRegressor.html) that the decision tree model has many options (more than you'll want or need for a long time). \n",
    "\n",
    "The most important options determine the tree's depth. Recall from the first lesson in this micro-course that a tree's depth is a measure of how many splits it makes before coming to a prediction. This is a relatively shallow tree\n",
    "\n",
    "<center>\n",
    "<img src=\"Improve_Decision_Tree.png\" width=\"640\" align=\"center\"><br/>\n",
    "</center>\n",
    "\n",
    "In practice, it's not uncommon for a tree to have 10 splits between the top level (all houses) and a leaf. As the tree gets deeper, the dataset gets sliced up into leaves with fewer houses. If a tree only had 1 split, it divides the data into 2 groups. If each group is split again, we would get 4 groups of houses. Splitting each of those again would create 8 groups. If we keep doubling the number of groups by adding more splits at each level, we'll have $2^{10}$ groups of houses by the time we get to the 10th level. That's 1024 leaves.\n",
    "\n",
    "### Overfitting\n",
    "When we divide the houses amongst many leaves, we also have fewer houses in each leaf. Leaves with very few houses will make predictions that are quite close to those homes' actual values, but they may make very unreliable predictions for new data (because each prediction is based on only a few houses).\n",
    "\n",
    "This is a phenomenon called **overfitting**, where a model matches the training data almost perfectly, but does poorly in validation and other new data. \n",
    "\n",
    "### Underfitting\n",
    "\n",
    "On the flip side, if we make our tree very shallow, it doesn't divide up the houses into very distinct groups. At an extreme, if a tree divides houses into only 2 or 4, each group still has a wide variety of houses. Resulting predictions may be far off for most houses, even in the training data (and it will be bad in validation too for the same reason).\n",
    "\n",
    "When a model fails to capture important distinctions and patterns in the data, so it performs poorly even in training data, that is called **underfitting**.\n",
    "\n",
    "Since we care about accuracy on new data, which we estimate from our validation data, we want to find the sweet spot between **underfitting** and **overfitting**. Visually, we want the low point of the (red) validation curve in the graph bellow:\n",
    "\n",
    "<center>\n",
    "<img src=\"Underfit_Overfit_Trade.png\" width=\"480\" align=\"center\"><br/>\n",
    "</center>\n",
    "\n",
    "## Example: Overfitting vs Underfitting\n",
    "\n",
    "There are a few alternatives for controlling the tree depth, and many allow for some routes through the tree to have greater depth than other routes. But the max_leaf_nodes argument provides a very sensible way to control overfitting vs underfitting. The more leaves we allow the model to make, the more we move from the underfitting area in the above graph to the overfitting area.\n",
    "\n",
    "We can use a utility function to help compare **MAE** scores from different values for `max_leaf_nodes`:"
   ]
  },
  {
   "cell_type": "code",
   "execution_count": 6,
   "metadata": {},
   "outputs": [],
   "source": [
    "from sklearn.metrics import mean_absolute_error\n",
    "from sklearn.tree import DecisionTreeRegressor\n",
    "\n",
    "def get_mae(max_leaf_nodes, train_X, val_X, train_y, val_y):\n",
    "    model = DecisionTreeRegressor(max_leaf_nodes=max_leaf_nodes, random_state=0)\n",
    "    model.fit(train_X, train_y)\n",
    "    preds_val = model.predict(val_X)\n",
    "    mae = mean_absolute_error(val_y, preds_val)\n",
    "    return(mae)"
   ]
  },
  {
   "cell_type": "markdown",
   "metadata": {},
   "source": [
    "The data is loaded into `train_X`, `val_X`, `train_y` and `val_y` using the code we have already written.\n",
    "\n",
    "We can use a for-loop to compare the accuracy of models built with different values for `max_leaf_nodes`."
   ]
  },
  {
   "cell_type": "code",
   "execution_count": 9,
   "metadata": {},
   "outputs": [
    {
     "name": "stdout",
     "output_type": "stream",
     "text": [
      "Max leaf nodes: 5  \t\t Mean Absolute Error:  363932\n",
      "Max leaf nodes: 50  \t\t Mean Absolute Error:  253843\n",
      "Max leaf nodes: 100  \t\t Mean Absolute Error:  249184\n",
      "Max leaf nodes: 500  \t\t Mean Absolute Error:  241771\n",
      "Max leaf nodes: 1000  \t\t Mean Absolute Error:  242625\n",
      "Max leaf nodes: 2000  \t\t Mean Absolute Error:  245913\n",
      "Max leaf nodes: 5000  \t\t Mean Absolute Error:  248952\n"
     ]
    }
   ],
   "source": [
    "# compare MAE with differing values of max_leaf_nodes\n",
    "for max_leaf_nodes in [5, 50, 100, 500, 1000, 2000, 5000]:\n",
    "    my_mae = get_mae(max_leaf_nodes, train_X, val_X, train_y, val_y)\n",
    "    print(\"Max leaf nodes: %d  \\t\\t Mean Absolute Error:  %d\" %(max_leaf_nodes, my_mae))"
   ]
  },
  {
   "cell_type": "markdown",
   "metadata": {},
   "source": [
    "We can see that from the options listed, 500 is the optimal number of leaves. Lower values result in underfitting, while bigger values overfit the train data.\n",
    "\n",
    "### Conclusion\n",
    "\n",
    "As a summary, models can suffer from either:\n",
    "- **Overfitting:** capturing spurious patterns that won't recur in the future, leading to less accurate predictions, or\n",
    "- **Underfitting:** failing to capture relevant patterns, again leading to less accurate predictions.\n",
    "\n",
    "We use validation data, which isn't used in model training, to measure a candidate model's accuracy. This lets us try many candidate models and keep the best on"
   ]
  },
  {
   "cell_type": "markdown",
   "metadata": {},
   "source": [
    "## Improving Performance with Random Forest\n",
    "\n",
    "Decision trees leave you with a difficult decision. A deep tree with lots of leaves will overfit because each prediction is coming from historical data from only the few houses at its leaf. But a shallow tree with few leaves will perform poorly because it fails to capture as many distinctions in the raw data.\n",
    "\n",
    "Even today's most sophisticated modeling techniques face this tension between underfitting and overfitting. But, many models have clever ideas that can lead to better performance. We'll look at the **random forest** model as an example.\n",
    "\n",
    "The random forest uses many trees, and it makes a prediction by averaging the predictions of each component tree. It generally has much better predictive accuracy than a single decision tree and it works well with default parameters. If you keep modeling, you can learn more models with even better performance, but many of those are sensitive to getting the right parameters.\n",
    "\n",
    "### Example\n",
    "\n",
    "You've already seen the code to load the data a few times. At the end of data-loading, we have the following variables:\n",
    "- `train_X`, `train_y`\n",
    "- `val_X`, `val_y`"
   ]
  },
  {
   "cell_type": "code",
   "execution_count": 1,
   "metadata": {},
   "outputs": [],
   "source": [
    "import pandas as pd\n",
    "from sklearn.tree import DecisionTreeRegressor\n",
    "from sklearn.model_selection import train_test_split\n",
    "\n",
    "# Load data\n",
    "melb_file_path = '../input/melbourne-housing/melb_data.csv'\n",
    "melb_data = pd.read_csv(melb_file_path) \n",
    "# Filter rows with missing price values\n",
    "filtered_melb_data = melb_data.dropna(axis=0)\n",
    "# Choose target and features\n",
    "y = filtered_melb_data.Price\n",
    "melb_features = ['Rooms', 'Bathroom', 'Landsize', 'BuildingArea', \n",
    "                 'YearBuilt', 'Lattitude', 'Longtitude']\n",
    "X = filtered_melb_data[melb_features]\n",
    "\n",
    "# split data into training and validation data, for both features and target\n",
    "train_X, val_X, train_y, val_y = train_test_split(X, y, test_size = 0.2, random_state = 0)"
   ]
  },
  {
   "cell_type": "markdown",
   "metadata": {},
   "source": [
    "In scikit-learn we build and use a **random forest** model the same way we built a **decision tree**, only this time we use the **RandomForestRegressor** class instead of **DecisionTreeRegressor** class."
   ]
  },
  {
   "cell_type": "code",
   "execution_count": 3,
   "metadata": {},
   "outputs": [
    {
     "name": "stdout",
     "output_type": "stream",
     "text": [
      "Random Forest MAE = 193739.86\n"
     ]
    }
   ],
   "source": [
    "from sklearn.ensemble import RandomForestRegressor\n",
    "from sklearn.metrics import mean_absolute_error\n",
    "\n",
    "forest_model = RandomForestRegressor(random_state=1)\n",
    "forest_model.fit(train_X, train_y)\n",
    "melb_preds = forest_model.predict(val_X)\n",
    "print(\"Random Forest MAE = {:.2f}\".format(mean_absolute_error(val_y, melb_preds)))"
   ]
  },
  {
   "cell_type": "markdown",
   "metadata": {},
   "source": [
    "### Conclusion\n",
    "\n",
    "There is clearly room for further improvement, but this MAE of 193,740 is a big improvement over the best decision tree error of 250,000. \n",
    "\n",
    "There are parameters which allow you to change the performance of the **Random Forest** as much as we changed a single decision tree with the maximum depth. But one of the best features of **Random Forest** models is that they generally work reasonably well, even without this tuning."
   ]
  },
  {
   "cell_type": "code",
   "execution_count": null,
   "metadata": {},
   "outputs": [],
   "source": []
  }
 ],
 "metadata": {
  "kernelspec": {
   "display_name": "Python 3",
   "language": "python",
   "name": "python3"
  },
  "language_info": {
   "codemirror_mode": {
    "name": "ipython",
    "version": 3
   },
   "file_extension": ".py",
   "mimetype": "text/x-python",
   "name": "python",
   "nbconvert_exporter": "python",
   "pygments_lexer": "ipython3",
   "version": "3.7.8"
  }
 },
 "nbformat": 4,
 "nbformat_minor": 4
}
